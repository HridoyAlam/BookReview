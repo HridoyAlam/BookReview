{
 "cells": [
  {
   "cell_type": "code",
   "execution_count": 1,
   "metadata": {},
   "outputs": [],
   "source": [
    "import matplotlib.pyplot as plt\n",
    "import numpy as np\n",
    "import pandas as pd\n",
    "import seaborn as sns"
   ]
  },
  {
   "cell_type": "code",
   "execution_count": 2,
   "metadata": {},
   "outputs": [],
   "source": [
    "values = np.array([1, 3, 2, 4, 1, 6, 4])\n",
    "example_df = pd.DataFrame({\n",
    "    'value': values,\n",
    "    'even': values % 2 == 0,\n",
    "    'above_three': values > 3 \n",
    "}, index=['a', 'b', 'c', 'd', 'e', 'f', 'g'])\n"
   ]
  },
  {
   "cell_type": "code",
   "execution_count": 4,
   "metadata": {},
   "outputs": [
    {
     "name": "stdout",
     "output_type": "stream",
     "text": [
      "       value  above_three\n",
      "even                     \n",
      "False      1        False\n",
      "True       2        False\n"
     ]
    }
   ],
   "source": [
    "# groupby() without as_index\n",
    "if True:\n",
    "    first_even = example_df.groupby('even').first()\n",
    "    print (first_even)\n",
    "    #print (first_even['even']) # Causes an error. 'even' is no longer a column in the DataFrame"
   ]
  },
  {
   "cell_type": "code",
   "execution_count": 5,
   "metadata": {},
   "outputs": [
    {
     "name": "stdout",
     "output_type": "stream",
     "text": [
      "    even  value  above_three\n",
      "0  False      1        False\n",
      "1   True      2        False\n",
      "0    False\n",
      "1     True\n",
      "Name: even, dtype: bool\n"
     ]
    }
   ],
   "source": [
    "# groupby() with as_index=False\n",
    "if True:\n",
    "    first_even = example_df.groupby('even', as_index=False).first()\n",
    "    print (first_even)\n",
    "    print (first_even['even']) # Now 'even' is still a column in the DataFrame\n"
   ]
  },
  {
   "cell_type": "code",
   "execution_count": 7,
   "metadata": {},
   "outputs": [],
   "source": [
    "subway_df = pd.read_csv('nyc_subway_weather.csv')"
   ]
  },
  {
   "cell_type": "code",
   "execution_count": 12,
   "metadata": {},
   "outputs": [
    {
     "data": {
      "text/html": [
       "<div>\n",
       "<style scoped>\n",
       "    .dataframe tbody tr th:only-of-type {\n",
       "        vertical-align: middle;\n",
       "    }\n",
       "\n",
       "    .dataframe tbody tr th {\n",
       "        vertical-align: top;\n",
       "    }\n",
       "\n",
       "    .dataframe thead th {\n",
       "        text-align: right;\n",
       "    }\n",
       "</style>\n",
       "<table border=\"1\" class=\"dataframe\">\n",
       "  <thead>\n",
       "    <tr style=\"text-align: right;\">\n",
       "      <th></th>\n",
       "      <th>UNIT</th>\n",
       "      <th>DATEn</th>\n",
       "      <th>TIMEn</th>\n",
       "      <th>ENTRIESn</th>\n",
       "      <th>EXITSn</th>\n",
       "      <th>ENTRIESn_hourly</th>\n",
       "      <th>EXITSn_hourly</th>\n",
       "      <th>datetime</th>\n",
       "      <th>hour</th>\n",
       "      <th>day_week</th>\n",
       "      <th>...</th>\n",
       "      <th>pressurei</th>\n",
       "      <th>rain</th>\n",
       "      <th>tempi</th>\n",
       "      <th>wspdi</th>\n",
       "      <th>meanprecipi</th>\n",
       "      <th>meanpressurei</th>\n",
       "      <th>meantempi</th>\n",
       "      <th>meanwspdi</th>\n",
       "      <th>weather_lat</th>\n",
       "      <th>weather_lon</th>\n",
       "    </tr>\n",
       "  </thead>\n",
       "  <tbody>\n",
       "    <tr>\n",
       "      <th>0</th>\n",
       "      <td>R003</td>\n",
       "      <td>05-01-11</td>\n",
       "      <td>00:00:00</td>\n",
       "      <td>4388333</td>\n",
       "      <td>2911002</td>\n",
       "      <td>0.0</td>\n",
       "      <td>0.0</td>\n",
       "      <td>2011-05-01 00:00:00</td>\n",
       "      <td>0</td>\n",
       "      <td>6</td>\n",
       "      <td>...</td>\n",
       "      <td>30.22</td>\n",
       "      <td>0</td>\n",
       "      <td>55.9</td>\n",
       "      <td>3.5</td>\n",
       "      <td>0.0</td>\n",
       "      <td>30.258</td>\n",
       "      <td>55.98</td>\n",
       "      <td>7.86</td>\n",
       "      <td>40.700348</td>\n",
       "      <td>-73.887177</td>\n",
       "    </tr>\n",
       "    <tr>\n",
       "      <th>1</th>\n",
       "      <td>R003</td>\n",
       "      <td>05-01-11</td>\n",
       "      <td>04:00:00</td>\n",
       "      <td>4388333</td>\n",
       "      <td>2911002</td>\n",
       "      <td>0.0</td>\n",
       "      <td>0.0</td>\n",
       "      <td>2011-05-01 04:00:00</td>\n",
       "      <td>4</td>\n",
       "      <td>6</td>\n",
       "      <td>...</td>\n",
       "      <td>30.25</td>\n",
       "      <td>0</td>\n",
       "      <td>52.0</td>\n",
       "      <td>3.5</td>\n",
       "      <td>0.0</td>\n",
       "      <td>30.258</td>\n",
       "      <td>55.98</td>\n",
       "      <td>7.86</td>\n",
       "      <td>40.700348</td>\n",
       "      <td>-73.887177</td>\n",
       "    </tr>\n",
       "  </tbody>\n",
       "</table>\n",
       "<p>2 rows × 27 columns</p>\n",
       "</div>"
      ],
      "text/plain": [
       "   UNIT     DATEn     TIMEn  ENTRIESn   EXITSn  ENTRIESn_hourly  \\\n",
       "0  R003  05-01-11  00:00:00   4388333  2911002              0.0   \n",
       "1  R003  05-01-11  04:00:00   4388333  2911002              0.0   \n",
       "\n",
       "   EXITSn_hourly             datetime  hour  day_week  ...  pressurei rain  \\\n",
       "0            0.0  2011-05-01 00:00:00     0         6  ...      30.22    0   \n",
       "1            0.0  2011-05-01 04:00:00     4         6  ...      30.25    0   \n",
       "\n",
       "   tempi  wspdi meanprecipi  meanpressurei  meantempi  meanwspdi  weather_lat  \\\n",
       "0   55.9    3.5         0.0         30.258      55.98       7.86    40.700348   \n",
       "1   52.0    3.5         0.0         30.258      55.98       7.86    40.700348   \n",
       "\n",
       "   weather_lon  \n",
       "0   -73.887177  \n",
       "1   -73.887177  \n",
       "\n",
       "[2 rows x 27 columns]"
      ]
     },
     "execution_count": 12,
     "metadata": {},
     "output_type": "execute_result"
    }
   ],
   "source": [
    "subway_df.head(2)"
   ]
  },
  {
   "cell_type": "code",
   "execution_count": 16,
   "metadata": {},
   "outputs": [
    {
     "data": {
      "text/html": [
       "<div>\n",
       "<style scoped>\n",
       "    .dataframe tbody tr th:only-of-type {\n",
       "        vertical-align: middle;\n",
       "    }\n",
       "\n",
       "    .dataframe tbody tr th {\n",
       "        vertical-align: top;\n",
       "    }\n",
       "\n",
       "    .dataframe thead th {\n",
       "        text-align: right;\n",
       "    }\n",
       "</style>\n",
       "<table border=\"1\" class=\"dataframe\">\n",
       "  <thead>\n",
       "    <tr style=\"text-align: right;\">\n",
       "      <th></th>\n",
       "      <th>latitude</th>\n",
       "      <th>longitude</th>\n",
       "      <th>ENTRIESn</th>\n",
       "      <th>EXITSn</th>\n",
       "      <th>ENTRIESn_hourly</th>\n",
       "      <th>EXITSn_hourly</th>\n",
       "      <th>hour</th>\n",
       "      <th>day_week</th>\n",
       "      <th>weekday</th>\n",
       "      <th>fog</th>\n",
       "      <th>...</th>\n",
       "      <th>pressurei</th>\n",
       "      <th>rain</th>\n",
       "      <th>tempi</th>\n",
       "      <th>wspdi</th>\n",
       "      <th>meanprecipi</th>\n",
       "      <th>meanpressurei</th>\n",
       "      <th>meantempi</th>\n",
       "      <th>meanwspdi</th>\n",
       "      <th>weather_lat</th>\n",
       "      <th>weather_lon</th>\n",
       "    </tr>\n",
       "  </thead>\n",
       "  <tbody>\n",
       "    <tr>\n",
       "      <th>0</th>\n",
       "      <td>40.576152</td>\n",
       "      <td>-73.975925</td>\n",
       "      <td>9.659049e+06</td>\n",
       "      <td>8.641132e+06</td>\n",
       "      <td>403.896175</td>\n",
       "      <td>325.956284</td>\n",
       "      <td>10.032787</td>\n",
       "      <td>2.907104</td>\n",
       "      <td>0.715847</td>\n",
       "      <td>0.010929</td>\n",
       "      <td>...</td>\n",
       "      <td>29.972568</td>\n",
       "      <td>0.229508</td>\n",
       "      <td>63.383607</td>\n",
       "      <td>5.553005</td>\n",
       "      <td>0.006284</td>\n",
       "      <td>29.972568</td>\n",
       "      <td>63.383607</td>\n",
       "      <td>5.553005</td>\n",
       "      <td>40.603489</td>\n",
       "      <td>-73.958763</td>\n",
       "    </tr>\n",
       "    <tr>\n",
       "      <th>1</th>\n",
       "      <td>40.576298</td>\n",
       "      <td>-73.968523</td>\n",
       "      <td>8.306897e+06</td>\n",
       "      <td>6.646823e+06</td>\n",
       "      <td>526.697297</td>\n",
       "      <td>419.562162</td>\n",
       "      <td>9.989189</td>\n",
       "      <td>2.951351</td>\n",
       "      <td>0.708108</td>\n",
       "      <td>0.010811</td>\n",
       "      <td>...</td>\n",
       "      <td>29.973297</td>\n",
       "      <td>0.227027</td>\n",
       "      <td>63.375135</td>\n",
       "      <td>5.517838</td>\n",
       "      <td>0.006216</td>\n",
       "      <td>29.973297</td>\n",
       "      <td>63.375135</td>\n",
       "      <td>5.517838</td>\n",
       "      <td>40.603489</td>\n",
       "      <td>-73.958763</td>\n",
       "    </tr>\n",
       "    <tr>\n",
       "      <th>2</th>\n",
       "      <td>40.577961</td>\n",
       "      <td>-73.961806</td>\n",
       "      <td>4.552910e+07</td>\n",
       "      <td>4.612408e+07</td>\n",
       "      <td>1950.295699</td>\n",
       "      <td>1930.483871</td>\n",
       "      <td>10.000000</td>\n",
       "      <td>2.935484</td>\n",
       "      <td>0.709677</td>\n",
       "      <td>0.010753</td>\n",
       "      <td>...</td>\n",
       "      <td>29.973118</td>\n",
       "      <td>0.225806</td>\n",
       "      <td>63.394086</td>\n",
       "      <td>5.531720</td>\n",
       "      <td>0.006183</td>\n",
       "      <td>29.973118</td>\n",
       "      <td>63.394086</td>\n",
       "      <td>5.531720</td>\n",
       "      <td>40.603489</td>\n",
       "      <td>-73.958763</td>\n",
       "    </tr>\n",
       "  </tbody>\n",
       "</table>\n",
       "<p>3 rows × 21 columns</p>\n",
       "</div>"
      ],
      "text/plain": [
       "    latitude  longitude      ENTRIESn        EXITSn  ENTRIESn_hourly  \\\n",
       "0  40.576152 -73.975925  9.659049e+06  8.641132e+06       403.896175   \n",
       "1  40.576298 -73.968523  8.306897e+06  6.646823e+06       526.697297   \n",
       "2  40.577961 -73.961806  4.552910e+07  4.612408e+07      1950.295699   \n",
       "\n",
       "   EXITSn_hourly       hour  day_week   weekday       fog  ...  pressurei  \\\n",
       "0     325.956284  10.032787  2.907104  0.715847  0.010929  ...  29.972568   \n",
       "1     419.562162   9.989189  2.951351  0.708108  0.010811  ...  29.973297   \n",
       "2    1930.483871  10.000000  2.935484  0.709677  0.010753  ...  29.973118   \n",
       "\n",
       "       rain      tempi     wspdi  meanprecipi  meanpressurei  meantempi  \\\n",
       "0  0.229508  63.383607  5.553005     0.006284      29.972568  63.383607   \n",
       "1  0.227027  63.375135  5.517838     0.006216      29.973297  63.375135   \n",
       "2  0.225806  63.394086  5.531720     0.006183      29.973118  63.394086   \n",
       "\n",
       "   meanwspdi  weather_lat  weather_lon  \n",
       "0   5.553005    40.603489   -73.958763  \n",
       "1   5.517838    40.603489   -73.958763  \n",
       "2   5.531720    40.603489   -73.958763  \n",
       "\n",
       "[3 rows x 21 columns]"
      ]
     },
     "execution_count": 16,
     "metadata": {},
     "output_type": "execute_result"
    }
   ],
   "source": [
    "data_by_location = subway_df.groupby(['latitude', 'longitude'], as_index = False).mean() #as_index is used, so that main data would not chnage\n",
    "data_by_location.head(3)"
   ]
  },
  {
   "cell_type": "code",
   "execution_count": 18,
   "metadata": {},
   "outputs": [
    {
     "data": {
      "text/plain": [
       "0    40.576152\n",
       "1    40.576298\n",
       "2    40.577961\n",
       "3    40.589547\n",
       "4    40.590867\n",
       "Name: latitude, dtype: float64"
      ]
     },
     "execution_count": 18,
     "metadata": {},
     "output_type": "execute_result"
    }
   ],
   "source": [
    "data_by_location.head()['latitude']"
   ]
  },
  {
   "cell_type": "code",
   "execution_count": 20,
   "metadata": {},
   "outputs": [],
   "source": [
    "scaled_entries = (data_by_location['ENTRIESn_hourly']/ data_by_location['ENTRIESn_hourly'] .std())"
   ]
  },
  {
   "cell_type": "code",
   "execution_count": 22,
   "metadata": {},
   "outputs": [
    {
     "data": {
      "text/plain": [
       "<matplotlib.collections.PathCollection at 0x1301c635b00>"
      ]
     },
     "execution_count": 22,
     "metadata": {},
     "output_type": "execute_result"
    },
    {
     "data": {
      "image/png": "[encoded data removed]",
      "text/plain": [
       "<Figure size 432x288 with 1 Axes>"
      ]
     },
     "metadata": {
      "needs_background": "light"
     },
     "output_type": "display_data"
    }
   ],
   "source": [
    "plt.scatter( data_by_location['latitude'], data_by_location['latitude'], s =  scaled_entries)"
   ]
  },
  {
   "cell_type": "code",
   "execution_count": null,
   "metadata": {},
   "outputs": [],
   "source": []
  }
 ],
 "metadata": {
  "kernelspec": {
   "display_name": "Python 3",
   "language": "python",
   "name": "python3"
  },
  "language_info": {
   "codemirror_mode": {
    "name": "ipython",
    "version": 3
   },
   "file_extension": ".py",
   "mimetype": "text/x-python",
   "name": "python",
   "nbconvert_exporter": "python",
   "pygments_lexer": "ipython3",
   "version": "3.7.3"
  }
 },
 "nbformat": 4,
 "nbformat_minor": 2
}
